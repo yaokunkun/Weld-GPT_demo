{
 "cells": [
  {
   "cell_type": "markdown",
   "metadata": {},
   "source": []
  },
  {
   "cell_type": "code",
   "execution_count": 1,
   "metadata": {},
   "outputs": [],
   "source": [
    "import requests\n",
    "import json\n",
    "\n",
    "\n",
    "data = {\n",
    "    \"query\": \"什么是氩弧焊\",\n",
    "    \"mode\": \"local_kb\",\n",
    "    \"kb_name\": \"电焊demo\",\n",
    "    \"top_k\": 3,\n",
    "    \"score_threshold\": 2,\n",
    "    \"history\": [\n",
    "        {\n",
    "            \"content\": \"你好，请问你了解电焊知识吗\",\n",
    "            \"role\": \"user\"\n",
    "        },\n",
    "        {\n",
    "            \"content\": \"我是电焊领域的专家，很乐意为你解答！\",\n",
    "            \"role\": \"assistant\"\n",
    "        }\n",
    "    ],\n",
    "    \"stream\": False,\n",
    "    \"temperature\": 0.7,\n",
    "    \"max_tokens\": 1024,\n",
    "    \"prompt_name\": \"default\",\n",
    "    \"return_direct\": False\n",
    "}\n",
    "\n",
    "# 假设请求的URL\n",
    "url = \"http://202.38.247.12:7861/chat/kb_chat\"  # 请替换为实际的API URL\n",
    "\n",
    "\n",
    "# 发送POST请求\n",
    "response = requests.post(url, json=data)\n",
    "response.raise_for_status()  # 检查请求是否成功\n",
    "\n",
    "# 解析响应的JSON数据\n",
    "response_json = response.json()\n",
    " \n"
   ]
  },
  {
   "cell_type": "code",
   "execution_count": 5,
   "metadata": {},
   "outputs": [],
   "source": [
    "response_json = json.loads(response.json())\n",
    "choice = response_json[\"choices\"][0]"
   ]
  },
  {
   "cell_type": "code",
   "execution_count": 6,
   "metadata": {},
   "outputs": [
    {
     "data": {
      "text/plain": [
       "{'message': {'role': 'assistant',\n",
       "  'content': '氩弧焊是一种使用氩气保护焊接过程，在焊接时，钨极与工作件之间形成的电弧在氩气保护下进行焊接，通过产生的高温使金属融化并形成焊接。',\n",
       "  'finish_reason': None,\n",
       "  'tool_calls': []}}"
      ]
     },
     "execution_count": 6,
     "metadata": {},
     "output_type": "execute_result"
    }
   ],
   "source": [
    "choice"
   ]
  }
 ],
 "metadata": {
  "kernelspec": {
   "display_name": "Python 3",
   "language": "python",
   "name": "python3"
  },
  "language_info": {
   "codemirror_mode": {
    "name": "ipython",
    "version": 3
   },
   "file_extension": ".py",
   "mimetype": "text/x-python",
   "name": "python",
   "nbconvert_exporter": "python",
   "pygments_lexer": "ipython3",
   "version": "3.8.13"
  }
 },
 "nbformat": 4,
 "nbformat_minor": 2
}
